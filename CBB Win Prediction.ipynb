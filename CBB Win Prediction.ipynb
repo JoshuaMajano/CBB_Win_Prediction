{
 "cells": [
  {
   "cell_type": "code",
   "execution_count": 19,
   "id": "ruled-badge",
   "metadata": {
    "ExecuteTime": {
     "end_time": "2021-03-11T06:02:31.653555Z",
     "start_time": "2021-03-11T06:02:31.649565Z"
    }
   },
   "outputs": [],
   "source": [
    "import matplotlib.pyplot as plt\n",
    "import numpy as np\n",
    "import pandas as pd\n",
    "from   sklearn.compose            import *\n",
    "from   sklearn.ensemble           import RandomForestRegressor\n",
    "from   sklearn.experimental       import enable_iterative_imputer\n",
    "from   sklearn.impute             import *\n",
    "from   sklearn.linear_model       import *\n",
    "from   sklearn.pipeline           import Pipeline\n",
    "from   sklearn.preprocessing      import *\n",
    "from   sklearn.base               import BaseEstimator\n",
    "from   sklearn.model_selection    import RandomizedSearchCV\n",
    "from   sklearn.inspection         import permutation_importance\n",
    "from   sklearn.metrics            import mean_absolute_error\n",
    "from   sklearn.model_selection    import train_test_split\n",
    "\n",
    "import warnings\n",
    "warnings.filterwarnings(\"ignore\")"
   ]
  },
  {
   "cell_type": "code",
   "execution_count": 2,
   "id": "opened-highway",
   "metadata": {
    "ExecuteTime": {
     "end_time": "2021-03-11T05:23:40.597959Z",
     "start_time": "2021-03-11T05:23:40.554670Z"
    },
    "scrolled": true
   },
   "outputs": [
    {
     "data": {
      "text/html": [
       "<div>\n",
       "<style scoped>\n",
       "    .dataframe tbody tr th:only-of-type {\n",
       "        vertical-align: middle;\n",
       "    }\n",
       "\n",
       "    .dataframe tbody tr th {\n",
       "        vertical-align: top;\n",
       "    }\n",
       "\n",
       "    .dataframe thead th {\n",
       "        text-align: right;\n",
       "    }\n",
       "</style>\n",
       "<table border=\"1\" class=\"dataframe\">\n",
       "  <thead>\n",
       "    <tr style=\"text-align: right;\">\n",
       "      <th></th>\n",
       "      <th>TEAM</th>\n",
       "      <th>CONF</th>\n",
       "      <th>G</th>\n",
       "      <th>W</th>\n",
       "      <th>ADJOE</th>\n",
       "      <th>ADJDE</th>\n",
       "      <th>BARTHAG</th>\n",
       "      <th>EFG_O</th>\n",
       "      <th>EFG_D</th>\n",
       "      <th>TOR</th>\n",
       "      <th>...</th>\n",
       "      <th>FTRD</th>\n",
       "      <th>2P_O</th>\n",
       "      <th>2P_D</th>\n",
       "      <th>3P_O</th>\n",
       "      <th>3P_D</th>\n",
       "      <th>ADJ_T</th>\n",
       "      <th>WAB</th>\n",
       "      <th>POSTSEASON</th>\n",
       "      <th>SEED</th>\n",
       "      <th>YEAR</th>\n",
       "    </tr>\n",
       "  </thead>\n",
       "  <tbody>\n",
       "    <tr>\n",
       "      <th>0</th>\n",
       "      <td>North Carolina</td>\n",
       "      <td>ACC</td>\n",
       "      <td>40</td>\n",
       "      <td>33</td>\n",
       "      <td>123.3</td>\n",
       "      <td>94.9</td>\n",
       "      <td>0.9531</td>\n",
       "      <td>52.6</td>\n",
       "      <td>48.1</td>\n",
       "      <td>15.4</td>\n",
       "      <td>...</td>\n",
       "      <td>30.4</td>\n",
       "      <td>53.9</td>\n",
       "      <td>44.6</td>\n",
       "      <td>32.7</td>\n",
       "      <td>36.2</td>\n",
       "      <td>71.7</td>\n",
       "      <td>8.6</td>\n",
       "      <td>2ND</td>\n",
       "      <td>1.0</td>\n",
       "      <td>2016</td>\n",
       "    </tr>\n",
       "    <tr>\n",
       "      <th>1</th>\n",
       "      <td>Wisconsin</td>\n",
       "      <td>B10</td>\n",
       "      <td>40</td>\n",
       "      <td>36</td>\n",
       "      <td>129.1</td>\n",
       "      <td>93.6</td>\n",
       "      <td>0.9758</td>\n",
       "      <td>54.8</td>\n",
       "      <td>47.7</td>\n",
       "      <td>12.4</td>\n",
       "      <td>...</td>\n",
       "      <td>22.4</td>\n",
       "      <td>54.8</td>\n",
       "      <td>44.7</td>\n",
       "      <td>36.5</td>\n",
       "      <td>37.5</td>\n",
       "      <td>59.3</td>\n",
       "      <td>11.3</td>\n",
       "      <td>2ND</td>\n",
       "      <td>1.0</td>\n",
       "      <td>2015</td>\n",
       "    </tr>\n",
       "    <tr>\n",
       "      <th>2</th>\n",
       "      <td>Michigan</td>\n",
       "      <td>B10</td>\n",
       "      <td>40</td>\n",
       "      <td>33</td>\n",
       "      <td>114.4</td>\n",
       "      <td>90.4</td>\n",
       "      <td>0.9375</td>\n",
       "      <td>53.9</td>\n",
       "      <td>47.7</td>\n",
       "      <td>14.0</td>\n",
       "      <td>...</td>\n",
       "      <td>30.0</td>\n",
       "      <td>54.7</td>\n",
       "      <td>46.8</td>\n",
       "      <td>35.2</td>\n",
       "      <td>33.2</td>\n",
       "      <td>65.9</td>\n",
       "      <td>6.9</td>\n",
       "      <td>2ND</td>\n",
       "      <td>3.0</td>\n",
       "      <td>2018</td>\n",
       "    </tr>\n",
       "    <tr>\n",
       "      <th>3</th>\n",
       "      <td>Texas Tech</td>\n",
       "      <td>B12</td>\n",
       "      <td>38</td>\n",
       "      <td>31</td>\n",
       "      <td>115.2</td>\n",
       "      <td>85.2</td>\n",
       "      <td>0.9696</td>\n",
       "      <td>53.5</td>\n",
       "      <td>43.0</td>\n",
       "      <td>17.7</td>\n",
       "      <td>...</td>\n",
       "      <td>36.6</td>\n",
       "      <td>52.8</td>\n",
       "      <td>41.9</td>\n",
       "      <td>36.5</td>\n",
       "      <td>29.7</td>\n",
       "      <td>67.5</td>\n",
       "      <td>7.0</td>\n",
       "      <td>2ND</td>\n",
       "      <td>3.0</td>\n",
       "      <td>2019</td>\n",
       "    </tr>\n",
       "    <tr>\n",
       "      <th>4</th>\n",
       "      <td>Gonzaga</td>\n",
       "      <td>WCC</td>\n",
       "      <td>39</td>\n",
       "      <td>37</td>\n",
       "      <td>117.8</td>\n",
       "      <td>86.3</td>\n",
       "      <td>0.9728</td>\n",
       "      <td>56.6</td>\n",
       "      <td>41.1</td>\n",
       "      <td>16.2</td>\n",
       "      <td>...</td>\n",
       "      <td>26.9</td>\n",
       "      <td>56.3</td>\n",
       "      <td>40.0</td>\n",
       "      <td>38.2</td>\n",
       "      <td>29.0</td>\n",
       "      <td>71.5</td>\n",
       "      <td>7.7</td>\n",
       "      <td>2ND</td>\n",
       "      <td>1.0</td>\n",
       "      <td>2017</td>\n",
       "    </tr>\n",
       "  </tbody>\n",
       "</table>\n",
       "<p>5 rows × 24 columns</p>\n",
       "</div>"
      ],
      "text/plain": [
       "             TEAM CONF   G   W  ADJOE  ADJDE  BARTHAG  EFG_O  EFG_D   TOR  \\\n",
       "0  North Carolina  ACC  40  33  123.3   94.9   0.9531   52.6   48.1  15.4   \n",
       "1       Wisconsin  B10  40  36  129.1   93.6   0.9758   54.8   47.7  12.4   \n",
       "2        Michigan  B10  40  33  114.4   90.4   0.9375   53.9   47.7  14.0   \n",
       "3      Texas Tech  B12  38  31  115.2   85.2   0.9696   53.5   43.0  17.7   \n",
       "4         Gonzaga  WCC  39  37  117.8   86.3   0.9728   56.6   41.1  16.2   \n",
       "\n",
       "   ...  FTRD  2P_O  2P_D  3P_O  3P_D  ADJ_T   WAB  POSTSEASON  SEED  YEAR  \n",
       "0  ...  30.4  53.9  44.6  32.7  36.2   71.7   8.6         2ND   1.0  2016  \n",
       "1  ...  22.4  54.8  44.7  36.5  37.5   59.3  11.3         2ND   1.0  2015  \n",
       "2  ...  30.0  54.7  46.8  35.2  33.2   65.9   6.9         2ND   3.0  2018  \n",
       "3  ...  36.6  52.8  41.9  36.5  29.7   67.5   7.0         2ND   3.0  2019  \n",
       "4  ...  26.9  56.3  40.0  38.2  29.0   71.5   7.7         2ND   1.0  2017  \n",
       "\n",
       "[5 rows x 24 columns]"
      ]
     },
     "execution_count": 2,
     "metadata": {},
     "output_type": "execute_result"
    }
   ],
   "source": [
    "# Load in data\n",
    "cbb = pd.read_csv('cbb.csv')\n",
    "cbb.head()"
   ]
  },
  {
   "cell_type": "code",
   "execution_count": 3,
   "id": "entire-sleeve",
   "metadata": {
    "ExecuteTime": {
     "end_time": "2021-03-11T05:23:45.324516Z",
     "start_time": "2021-03-11T05:23:45.321888Z"
    }
   },
   "outputs": [],
   "source": [
    "# Estimator to be used in RandomizedSearch later\n",
    "class DummyEstimator(BaseEstimator):\n",
    "    \"Pass through class, methods are present but do nothing.\"\n",
    "    def fit(self): pass\n",
    "    def score(self): pass"
   ]
  },
  {
   "cell_type": "code",
   "execution_count": null,
   "id": "realistic-religion",
   "metadata": {},
   "outputs": [],
   "source": []
  },
  {
   "cell_type": "markdown",
   "id": "shared-breakdown",
   "metadata": {},
   "source": [
    "# Splitting data with train/valid = '15, '16, '17 season and test = '18 season"
   ]
  },
  {
   "cell_type": "markdown",
   "id": "floral-mission",
   "metadata": {},
   "source": [
    "The 2019 season has two extra teams added in. To have the most consistent train/validation/test sets, we will only consider the 2015-2018 seasons where we will train on the 2015-2017 seasons and use the 2018 season as our test data."
   ]
  },
  {
   "cell_type": "code",
   "execution_count": 4,
   "id": "golden-reunion",
   "metadata": {
    "ExecuteTime": {
     "end_time": "2021-03-11T05:24:02.610548Z",
     "start_time": "2021-03-11T05:24:02.597797Z"
    }
   },
   "outputs": [],
   "source": [
    "df = cbb[~(cbb.YEAR == 2019)]  # Removing rows associated with the 2019 season\n",
    "\n",
    "train = df[~(df.YEAR == 2018)]  # Create train set with data associated with 2015-2017 seasons\n",
    "test = df[df.YEAR == 2018]  # Create test set with data associated with 2018 season"
   ]
  },
  {
   "cell_type": "code",
   "execution_count": null,
   "id": "traditional-bonus",
   "metadata": {},
   "outputs": [],
   "source": []
  },
  {
   "cell_type": "markdown",
   "id": "golden-folder",
   "metadata": {},
   "source": [
    "# Train/Validation data"
   ]
  },
  {
   "cell_type": "markdown",
   "id": "opposed-restriction",
   "metadata": {},
   "source": [
    "Here we will create a \"universal\" train/validation split that each model search will use for consistency."
   ]
  },
  {
   "cell_type": "code",
   "execution_count": 5,
   "id": "binary-federal",
   "metadata": {
    "ExecuteTime": {
     "end_time": "2021-03-11T05:24:08.093805Z",
     "start_time": "2021-03-11T05:24:08.088663Z"
    }
   },
   "outputs": [],
   "source": [
    "features = train.columns[4:-4]  # Only keeping columns with team stats and removing columns related to postseason/rank\n",
    "                                # or team name/conference\n",
    "X = train[features]\n",
    "y = train['W']  # Target variable \"wins\""
   ]
  },
  {
   "cell_type": "code",
   "execution_count": 6,
   "id": "needed-nurse",
   "metadata": {
    "ExecuteTime": {
     "end_time": "2021-03-11T05:24:50.087836Z",
     "start_time": "2021-03-11T05:24:50.083508Z"
    }
   },
   "outputs": [],
   "source": [
    "# Creating the same train/validation sets to be used across each model to compare the best to use for our final model\n",
    "X_train, X_val, y_train, y_val = train_test_split(X, y, random_state=42)"
   ]
  },
  {
   "cell_type": "markdown",
   "id": "violent-valuable",
   "metadata": {},
   "source": [
    "# Four Factors"
   ]
  },
  {
   "cell_type": "markdown",
   "id": "compact-dealing",
   "metadata": {},
   "source": [
    "\"Four Factors of Basketball Success\" from Dean Oliver involves the following 8 variables:\n",
    "\n",
    "(1) EFG_O: Effective Field Goal Percentage Shot, \n",
    "(2) EFG_D: Effective Field Goal Percentage Allowed,\n",
    "(3) TOR: Turnover Percentage Allowed (Turnover Rate), \n",
    "(4) TORD: Turnover Percentage Committed (Steal Rate),\n",
    "(5) ORB: Offensive Rebound Rate, \n",
    "(6) DRB: Offensive Rebound Rate Allowed,\n",
    "(7) FTR : Free Throw Rate (How often the given team shoots Free Throws), \n",
    "(8) FTRD: Free Throw Rate Allowed"
   ]
  },
  {
   "cell_type": "code",
   "execution_count": 7,
   "id": "hazardous-simpson",
   "metadata": {
    "ExecuteTime": {
     "end_time": "2021-03-11T05:32:17.992135Z",
     "start_time": "2021-03-11T05:32:17.987746Z"
    }
   },
   "outputs": [],
   "source": [
    "# Grab the 8 columns that are part of the \"Four Factors of Basketball Success\"\n",
    "ff_train = X_train[['EFG_O','EFG_D','TOR','TORD','ORB','DRB','FTR','FTRD']]\n",
    "ff_val = X_val[['EFG_O','EFG_D','TOR','TORD','ORB','DRB','FTR','FTRD']]"
   ]
  },
  {
   "cell_type": "code",
   "execution_count": 25,
   "id": "comparable-detroit",
   "metadata": {
    "ExecuteTime": {
     "end_time": "2021-03-11T06:20:54.984028Z",
     "start_time": "2021-03-11T06:20:54.976236Z"
    }
   },
   "outputs": [],
   "source": [
    "# Pipeline and RandomizedSearch to find the best regression model where each hyperparameter that is part of the search\n",
    "# is one that can affect the coefficients for the features depending on the linear model.\n",
    "pipe = Pipeline([('scaler',StandardScaler()),\n",
    "                 ('reg',DummyEstimator())])\n",
    "\n",
    "search_space = [{'reg': [LinearRegression(n_jobs=-1)] # Actual Estimator\n",
    "                },\n",
    "                \n",
    "                {'reg': [Lasso()],  # Actual Estimator\n",
    "                 'reg__alpha': np.arange(0.1,1,0.1),\n",
    "                 'reg__max_iter': np.arange(100, 1000, 100),\n",
    "                },\n",
    "                \n",
    "                {'reg': [Ridge()],  # Actual Estimator\n",
    "                 'reg__alpha': np.arange(0.1, 1, 0.1),\n",
    "                 'reg__max_iter': np.arange(100, 1000, 100)\n",
    "                },\n",
    "                \n",
    "                {'reg': [SGDRegressor()],  # Actual Estimator\n",
    "                 'reg__penalty': ['l2', 'l1', 'elasticnet'],\n",
    "                 'reg__alpha': np.arange(0.0001, 1, 0.1),\n",
    "                 'reg__max_iter': np.arange(100, 1000, 100),\n",
    "                 'reg__learning_rate': ['constant', 'optimal', 'invscaling', 'adaptive']\n",
    "                },\n",
    "                \n",
    "                {'reg': [ElasticNet()],  # Actual Estimator\n",
    "                 'reg__alpha': np.arange(0.1, 1, 0.1),\n",
    "                 'reg__l1_ratio': np.arange(0, 1.1, 0.1),\n",
    "                 'reg__max_iter': np.arange(100, 1000, 100),\n",
    "                 'reg__selection': ['cyclic', 'random']\n",
    "                },\n",
    "                \n",
    "                {'reg': [RandomForestRegressor(n_jobs=-1)],  # Actual Estimator\n",
    "                 'reg__criterion': ['mse', 'mae'],\n",
    "                 'reg__n_estimators': np.arange(100, 1000, 150),\n",
    "                 'reg__max_features': ['log2','sqrt'],\n",
    "                 'reg__max_depth' : np.arange(15,25,1),\n",
    "                 'reg__min_samples_leaf': np.arange(1,10,1)\n",
    "                }\n",
    "                 ]\n",
    "\n",
    "reg_algos_rand = RandomizedSearchCV(estimator=pipe, \n",
    "                                    param_distributions=search_space, \n",
    "                                    n_iter=100,\n",
    "                                    cv=5, \n",
    "                                    n_jobs=-1,\n",
    "                                    verbose=1,\n",
    "                                    scoring='neg_mean_absolute_error',\n",
    "                                    random_state=1)"
   ]
  },
  {
   "cell_type": "code",
   "execution_count": 26,
   "id": "together-vertical",
   "metadata": {
    "ExecuteTime": {
     "end_time": "2021-03-11T06:21:36.070829Z",
     "start_time": "2021-03-11T06:20:56.391447Z"
    }
   },
   "outputs": [
    {
     "name": "stdout",
     "output_type": "stream",
     "text": [
      "Fitting 5 folds for each of 100 candidates, totalling 500 fits\n",
      "Pipeline(steps=[('Sca', StandardScaler()),\n",
      "                ('reg',\n",
      "                 SGDRegressor(alpha=0.10010000000000001,\n",
      "                              learning_rate='adaptive', max_iter=300,\n",
      "                              penalty='l1'))])\n",
      "SGDRegressor(alpha=0.10010000000000001, learning_rate='adaptive', max_iter=300,\n",
      "             penalty='l1')\n",
      "-1.9547902774576689\n"
     ]
    }
   ],
   "source": [
    "# Print out the best model from our search\n",
    "ff_model = reg_algos_rand.fit(ff_train, y_train)\n",
    "print(ff_model.best_estimator_)\n",
    "print(ff_model.best_estimator_.get_params()['reg'])\n",
    "print(ff_model.best_score_)"
   ]
  },
  {
   "cell_type": "markdown",
   "id": "sweet-making",
   "metadata": {},
   "source": [
    "Looks like SGDRegressor performed the best with an MAE of 1.943 on the train set. Let's have a look at the hyperparameters."
   ]
  },
  {
   "cell_type": "code",
   "execution_count": 27,
   "id": "photographic-worthy",
   "metadata": {
    "ExecuteTime": {
     "end_time": "2021-03-11T06:22:09.205338Z",
     "start_time": "2021-03-11T06:22:09.200813Z"
    }
   },
   "outputs": [
    {
     "data": {
      "text/plain": [
       "{'alpha': 0.10010000000000001,\n",
       " 'average': False,\n",
       " 'early_stopping': False,\n",
       " 'epsilon': 0.1,\n",
       " 'eta0': 0.01,\n",
       " 'fit_intercept': True,\n",
       " 'l1_ratio': 0.15,\n",
       " 'learning_rate': 'adaptive',\n",
       " 'loss': 'squared_loss',\n",
       " 'max_iter': 300,\n",
       " 'n_iter_no_change': 5,\n",
       " 'penalty': 'l1',\n",
       " 'power_t': 0.25,\n",
       " 'random_state': None,\n",
       " 'shuffle': True,\n",
       " 'tol': 0.001,\n",
       " 'validation_fraction': 0.1,\n",
       " 'verbose': 0,\n",
       " 'warm_start': False}"
      ]
     },
     "execution_count": 27,
     "metadata": {},
     "output_type": "execute_result"
    }
   ],
   "source": [
    "ff_model.best_estimator_['reg'].get_params()"
   ]
  },
  {
   "cell_type": "markdown",
   "id": "sustainable-victoria",
   "metadata": {},
   "source": [
    "#### Validation performance with this best model"
   ]
  },
  {
   "cell_type": "code",
   "execution_count": 55,
   "id": "educated-narrative",
   "metadata": {
    "ExecuteTime": {
     "end_time": "2021-03-11T07:24:29.834973Z",
     "start_time": "2021-03-11T07:24:29.819312Z"
    }
   },
   "outputs": [
    {
     "data": {
      "text/plain": [
       "Pipeline(steps=[('scaler', StandardScaler()),\n",
       "                ('reg',\n",
       "                 SGDRegressor(alpha=0.10010000000000001,\n",
       "                              learning_rate='adaptive', max_iter=300,\n",
       "                              penalty='l1'))])"
      ]
     },
     "execution_count": 55,
     "metadata": {},
     "output_type": "execute_result"
    }
   ],
   "source": [
    "# Fitting the model to evaluate its performance on the validation set\n",
    "params_ff = {'alpha': 0.10010000000000001,\n",
    " 'average': False,\n",
    " 'early_stopping': False,\n",
    " 'epsilon': 0.1,\n",
    " 'eta0': 0.01,\n",
    " 'fit_intercept': True,\n",
    " 'l1_ratio': 0.15,\n",
    " 'learning_rate': 'adaptive',\n",
    " 'loss': 'squared_loss',\n",
    " 'max_iter': 300,\n",
    " 'n_iter_no_change': 5,\n",
    " 'penalty': 'l1',\n",
    " 'power_t': 0.25,\n",
    " 'random_state': None,\n",
    " 'shuffle': True,\n",
    " 'tol': 0.001,\n",
    " 'validation_fraction': 0.1,\n",
    " 'verbose': 0,\n",
    " 'warm_start': False}\n",
    "\n",
    "pipe_ff = Pipeline(steps=[('scaler',StandardScaler()), ('reg', SGDRegressor(**params_ff))])\n",
    "pipe_ff.fit(ff_train, y_train)"
   ]
  },
  {
   "cell_type": "code",
   "execution_count": 56,
   "id": "soviet-supervisor",
   "metadata": {
    "ExecuteTime": {
     "end_time": "2021-03-11T07:24:30.977612Z",
     "start_time": "2021-03-11T07:24:30.972048Z"
    }
   },
   "outputs": [
    {
     "name": "stdout",
     "output_type": "stream",
     "text": [
      "MAE: 2.024424\n"
     ]
    }
   ],
   "source": [
    "# Evaluating on validation set\n",
    "y_pred = pipe_ff.predict(ff_val)\n",
    "ff_mae = mean_absolute_error(y_val, y_pred)\n",
    "print(f\"MAE: {ff_mae:.6f}\")"
   ]
  },
  {
   "cell_type": "code",
   "execution_count": null,
   "id": "discrete-overall",
   "metadata": {},
   "outputs": [],
   "source": []
  },
  {
   "cell_type": "markdown",
   "id": "creative-spare",
   "metadata": {},
   "source": [
    "# Adjusted Efficiency Stats"
   ]
  },
  {
   "cell_type": "code",
   "execution_count": 22,
   "id": "impressed-title",
   "metadata": {
    "ExecuteTime": {
     "end_time": "2021-03-11T06:17:16.305873Z",
     "start_time": "2021-03-11T06:17:16.297112Z"
    }
   },
   "outputs": [],
   "source": [
    "# Grab the 3 columns that have the adjusted efficiency stats\n",
    "adj_train = X_train[['ADJOE', 'ADJDE', 'ADJ_T']]\n",
    "adj_val = X_val[['ADJOE', 'ADJDE', 'ADJ_T']]"
   ]
  },
  {
   "cell_type": "code",
   "execution_count": 30,
   "id": "aerial-conference",
   "metadata": {
    "ExecuteTime": {
     "end_time": "2021-03-11T06:23:21.591386Z",
     "start_time": "2021-03-11T06:23:21.584140Z"
    }
   },
   "outputs": [],
   "source": [
    "# Pipeline and RandomizedSearch to find the best regression model where each hyperparameter that is part of the search\n",
    "# is one that can affect the coefficients for the features depending on the linear model.\n",
    "pipe = Pipeline([('scaler',StandardScaler()),\n",
    "                 ('reg',DummyEstimator())])\n",
    "\n",
    "search_space = [{'reg': [LinearRegression(n_jobs=-1)] # Actual Estimator\n",
    "                },\n",
    "                \n",
    "                {'reg': [Lasso()],  # Actual Estimator\n",
    "                 'reg__alpha': np.arange(0.1,1,0.1),\n",
    "                 'reg__max_iter': np.arange(100, 1000, 100),\n",
    "                },\n",
    "                \n",
    "                {'reg': [Ridge()],  # Actual Estimator\n",
    "                 'reg__alpha': np.arange(0.1, 1, 0.1),\n",
    "                 'reg__max_iter': np.arange(100, 1000, 100)\n",
    "                },\n",
    "                \n",
    "                {'reg': [SGDRegressor()],  # Actual Estimator\n",
    "                 'reg__penalty': ['l2', 'l1', 'elasticnet'],\n",
    "                 'reg__alpha': np.arange(0.0001, 1, 0.1),\n",
    "                 'reg__max_iter': np.arange(100, 1000, 100),\n",
    "                 'reg__learning_rate': ['constant', 'optimal', 'invscaling', 'adaptive']\n",
    "                },\n",
    "                \n",
    "                {'reg': [ElasticNet()],  # Actual Estimator\n",
    "                 'reg__alpha': np.arange(0.1, 1, 0.1),\n",
    "                 'reg__l1_ratio': np.arange(0, 1.1, 0.1),\n",
    "                 'reg__max_iter': np.arange(100, 1000, 100),\n",
    "                 'reg__selection': ['cyclic', 'random']\n",
    "                },\n",
    "                \n",
    "                {'reg': [RandomForestRegressor(n_jobs=-1)],  # Actual Estimator\n",
    "                 'reg__criterion': ['mse', 'mae'],\n",
    "                 'reg__n_estimators': np.arange(100, 1000, 150),\n",
    "                 'reg__max_features': ['log2','sqrt'],\n",
    "                 'reg__max_depth' : np.arange(15,25,1),\n",
    "                 'reg__min_samples_leaf': np.arange(1,10,1)\n",
    "                }\n",
    "                 ]\n",
    "\n",
    "reg_algos_rand = RandomizedSearchCV(estimator=pipe, \n",
    "                                    param_distributions=search_space, \n",
    "                                    n_iter=100,\n",
    "                                    cv=5, \n",
    "                                    n_jobs=-1,\n",
    "                                    verbose=1,\n",
    "                                    scoring='neg_mean_absolute_error',\n",
    "                                    random_state=2)"
   ]
  },
  {
   "cell_type": "code",
   "execution_count": 31,
   "id": "adverse-morgan",
   "metadata": {
    "ExecuteTime": {
     "end_time": "2021-03-11T06:24:11.613178Z",
     "start_time": "2021-03-11T06:23:22.952822Z"
    }
   },
   "outputs": [
    {
     "name": "stdout",
     "output_type": "stream",
     "text": [
      "Fitting 5 folds for each of 100 candidates, totalling 500 fits\n",
      "Pipeline(steps=[('Sca', StandardScaler()),\n",
      "                ('reg', SGDRegressor(max_iter=100, penalty='l1'))])\n",
      "SGDRegressor(max_iter=100, penalty='l1')\n",
      "-2.9168737201327644\n"
     ]
    }
   ],
   "source": [
    "# Print out the best model from our search\n",
    "adj_model = reg_algos_rand.fit(adj_train, y_train)\n",
    "print(adj_model.best_estimator_)\n",
    "print(adj_model.best_estimator_.get_params()['reg'])\n",
    "print(adj_model.best_score_)"
   ]
  },
  {
   "cell_type": "code",
   "execution_count": 32,
   "id": "ethical-character",
   "metadata": {
    "ExecuteTime": {
     "end_time": "2021-03-11T06:24:33.806291Z",
     "start_time": "2021-03-11T06:24:33.802161Z"
    }
   },
   "outputs": [
    {
     "data": {
      "text/plain": [
       "{'alpha': 0.0001,\n",
       " 'average': False,\n",
       " 'early_stopping': False,\n",
       " 'epsilon': 0.1,\n",
       " 'eta0': 0.01,\n",
       " 'fit_intercept': True,\n",
       " 'l1_ratio': 0.15,\n",
       " 'learning_rate': 'invscaling',\n",
       " 'loss': 'squared_loss',\n",
       " 'max_iter': 100,\n",
       " 'n_iter_no_change': 5,\n",
       " 'penalty': 'l1',\n",
       " 'power_t': 0.25,\n",
       " 'random_state': None,\n",
       " 'shuffle': True,\n",
       " 'tol': 0.001,\n",
       " 'validation_fraction': 0.1,\n",
       " 'verbose': 0,\n",
       " 'warm_start': False}"
      ]
     },
     "execution_count": 32,
     "metadata": {},
     "output_type": "execute_result"
    }
   ],
   "source": [
    "adj_model.best_estimator_['reg'].get_params()"
   ]
  },
  {
   "cell_type": "code",
   "execution_count": 52,
   "id": "former-transformation",
   "metadata": {
    "ExecuteTime": {
     "end_time": "2021-03-11T07:24:06.375513Z",
     "start_time": "2021-03-11T07:24:06.363337Z"
    }
   },
   "outputs": [
    {
     "data": {
      "text/plain": [
       "Pipeline(steps=[('scaler', StandardScaler()),\n",
       "                ('reg', SGDRegressor(max_iter=100, penalty='l1'))])"
      ]
     },
     "execution_count": 52,
     "metadata": {},
     "output_type": "execute_result"
    }
   ],
   "source": [
    "# Fitting the model to evaluate its performance on the validation set\n",
    "params_adj = {'alpha': 0.0001,\n",
    " 'average': False,\n",
    " 'early_stopping': False,\n",
    " 'epsilon': 0.1,\n",
    " 'eta0': 0.01,\n",
    " 'fit_intercept': True,\n",
    " 'l1_ratio': 0.15,\n",
    " 'learning_rate': 'invscaling',\n",
    " 'loss': 'squared_loss',\n",
    " 'max_iter': 100,\n",
    " 'n_iter_no_change': 5,\n",
    " 'penalty': 'l1',\n",
    " 'power_t': 0.25,\n",
    " 'random_state': None,\n",
    " 'shuffle': True,\n",
    " 'tol': 0.001,\n",
    " 'validation_fraction': 0.1,\n",
    " 'verbose': 0,\n",
    " 'warm_start': False}\n",
    "\n",
    "pipe_adj = Pipeline(steps=[('scaler',StandardScaler()), ('reg', SGDRegressor(**params_adj))])\n",
    "pipe_adj.fit(adj_train, y_train)"
   ]
  },
  {
   "cell_type": "code",
   "execution_count": 53,
   "id": "divine-curve",
   "metadata": {
    "ExecuteTime": {
     "end_time": "2021-03-11T07:24:07.294521Z",
     "start_time": "2021-03-11T07:24:07.289443Z"
    }
   },
   "outputs": [
    {
     "name": "stdout",
     "output_type": "stream",
     "text": [
      "MAE: 2.969556\n"
     ]
    }
   ],
   "source": [
    "# Evaluating on validation set\n",
    "y_pred = pipe_adj.predict(adj_val)\n",
    "adj_mae = mean_absolute_error(y_val, y_pred)\n",
    "print(f\"MAE: {adj_mae:.6f}\")"
   ]
  },
  {
   "cell_type": "code",
   "execution_count": null,
   "id": "pretty-malawi",
   "metadata": {},
   "outputs": [],
   "source": []
  },
  {
   "cell_type": "markdown",
   "id": "charitable-strength",
   "metadata": {},
   "source": [
    "# All stats"
   ]
  },
  {
   "cell_type": "code",
   "execution_count": 46,
   "id": "permanent-gross",
   "metadata": {
    "ExecuteTime": {
     "end_time": "2021-03-11T06:47:05.426996Z",
     "start_time": "2021-03-11T06:47:05.419716Z"
    }
   },
   "outputs": [],
   "source": [
    "# Pipeline and RandomizedSearch to find the best regression model where each hyperparameter that is part of the search\n",
    "# is one that can affect the coefficients for the features depending on the linear model.\n",
    "pipe = Pipeline([('scaler',StandardScaler()),\n",
    "                 ('reg',DummyEstimator())])\n",
    "\n",
    "search_space = [{'reg': [LinearRegression(n_jobs=-1)] # Actual Estimator\n",
    "                },\n",
    "                \n",
    "                {'reg': [Lasso()],  # Actual Estimator\n",
    "                 'reg__alpha': np.arange(0.1,1,0.1),\n",
    "                 'reg__max_iter': np.arange(100, 1000, 100),\n",
    "                },\n",
    "                \n",
    "                {'reg': [Ridge()],  # Actual Estimator\n",
    "                 'reg__alpha': np.arange(0.1, 1, 0.1),\n",
    "                 'reg__max_iter': np.arange(100, 1000, 100)\n",
    "                },\n",
    "                \n",
    "                {'reg': [SGDRegressor()],  # Actual Estimator\n",
    "                 'reg__penalty': ['l2', 'l1', 'elasticnet'],\n",
    "                 'reg__alpha': np.arange(0.0001, 1, 0.1),\n",
    "                 'reg__max_iter': np.arange(100, 1000, 100),\n",
    "                 'reg__learning_rate': ['constant', 'optimal', 'invscaling', 'adaptive']\n",
    "                },\n",
    "                \n",
    "                {'reg': [ElasticNet()],  # Actual Estimator\n",
    "                 'reg__alpha': np.arange(0.1, 1, 0.1),\n",
    "                 'reg__l1_ratio': np.arange(0, 1.1, 0.1),\n",
    "                 'reg__max_iter': np.arange(100, 1000, 100),\n",
    "                 'reg__selection': ['cyclic', 'random']\n",
    "                },\n",
    "                \n",
    "                {'reg': [RandomForestRegressor(n_jobs=-1)],  # Actual Estimator\n",
    "                 'reg__criterion': ['mse', 'mae'],\n",
    "                 'reg__n_estimators': np.arange(100, 1000, 150),\n",
    "                 'reg__max_features': ['log2','sqrt'],\n",
    "                 'reg__max_depth' : np.arange(15,25,1),\n",
    "                 'reg__min_samples_leaf': np.arange(1,10,1)\n",
    "                }\n",
    "                 ]\n",
    "\n",
    "reg_algos_rand = RandomizedSearchCV(estimator=pipe, \n",
    "                                    param_distributions=search_space, \n",
    "                                    n_iter=100,\n",
    "                                    cv=5, \n",
    "                                    n_jobs=-1,\n",
    "                                    verbose=1,\n",
    "                                    scoring='neg_mean_absolute_error',\n",
    "                                    random_state=3)"
   ]
  },
  {
   "cell_type": "code",
   "execution_count": 47,
   "id": "brazilian-guatemala",
   "metadata": {
    "ExecuteTime": {
     "end_time": "2021-03-11T06:49:30.233306Z",
     "start_time": "2021-03-11T06:47:39.759250Z"
    }
   },
   "outputs": [
    {
     "name": "stdout",
     "output_type": "stream",
     "text": [
      "Fitting 5 folds for each of 100 candidates, totalling 500 fits\n",
      "Pipeline(steps=[('Sca', StandardScaler()),\n",
      "                ('reg', Ridge(alpha=0.2, max_iter=300))])\n",
      "Ridge(alpha=0.2, max_iter=300)\n",
      "-1.924084758809625\n"
     ]
    }
   ],
   "source": [
    "# Print out the best model from our search\n",
    "all_model = reg_algos_rand.fit(X_train, y_train)\n",
    "print(all_model.best_estimator_)\n",
    "print(all_model.best_estimator_.get_params()['reg'])\n",
    "print(all_model.best_score_)"
   ]
  },
  {
   "cell_type": "code",
   "execution_count": 48,
   "id": "contained-blowing",
   "metadata": {
    "ExecuteTime": {
     "end_time": "2021-03-11T06:49:45.540777Z",
     "start_time": "2021-03-11T06:49:45.537179Z"
    }
   },
   "outputs": [
    {
     "data": {
      "text/plain": [
       "{'alpha': 0.2,\n",
       " 'copy_X': True,\n",
       " 'fit_intercept': True,\n",
       " 'max_iter': 300,\n",
       " 'normalize': False,\n",
       " 'random_state': None,\n",
       " 'solver': 'auto',\n",
       " 'tol': 0.001}"
      ]
     },
     "execution_count": 48,
     "metadata": {},
     "output_type": "execute_result"
    }
   ],
   "source": [
    "all_model.best_estimator_['reg'].get_params()"
   ]
  },
  {
   "cell_type": "code",
   "execution_count": 57,
   "id": "approximate-orchestra",
   "metadata": {
    "ExecuteTime": {
     "end_time": "2021-03-11T07:24:47.235034Z",
     "start_time": "2021-03-11T07:24:47.222584Z"
    }
   },
   "outputs": [
    {
     "data": {
      "text/plain": [
       "Pipeline(steps=[('scaler', StandardScaler()),\n",
       "                ('reg', Ridge(alpha=0.2, max_iter=300))])"
      ]
     },
     "execution_count": 57,
     "metadata": {},
     "output_type": "execute_result"
    }
   ],
   "source": [
    "# Fitting the model to evaluate its performance on the validation set\n",
    "params_all = {'alpha': 0.2,\n",
    " 'copy_X': True,\n",
    " 'fit_intercept': True,\n",
    " 'max_iter': 300,\n",
    " 'normalize': False,\n",
    " 'random_state': None,\n",
    " 'solver': 'auto',\n",
    " 'tol': 0.001}\n",
    "\n",
    "pipe_all = Pipeline(steps=[('scaler',StandardScaler()), ('reg', Ridge(**params_all))])\n",
    "pipe_all.fit(X_train, y_train)"
   ]
  },
  {
   "cell_type": "code",
   "execution_count": 58,
   "id": "russian-truck",
   "metadata": {
    "ExecuteTime": {
     "end_time": "2021-03-11T07:24:50.762526Z",
     "start_time": "2021-03-11T07:24:50.757504Z"
    }
   },
   "outputs": [
    {
     "name": "stdout",
     "output_type": "stream",
     "text": [
      "MAE: 1.963655\n"
     ]
    }
   ],
   "source": [
    "# Evaluating on validation set\n",
    "y_pred = pipe_all.predict(X_val)\n",
    "all_mae = mean_absolute_error(y_val, y_pred)\n",
    "print(f\"MAE: {all_mae:.6f}\")"
   ]
  },
  {
   "cell_type": "code",
   "execution_count": null,
   "id": "excessive-nursery",
   "metadata": {},
   "outputs": [],
   "source": []
  },
  {
   "cell_type": "code",
   "execution_count": 82,
   "id": "ethical-capture",
   "metadata": {
    "ExecuteTime": {
     "end_time": "2021-03-12T18:35:31.712637Z",
     "start_time": "2021-03-12T18:35:31.521719Z"
    }
   },
   "outputs": [
    {
     "data": {
      "image/png": "[encoded data removed]",
      "text/plain": [
       "<Figure size 432x288 with 1 Axes>"
      ]
     },
     "metadata": {
      "needs_background": "light"
     },
     "output_type": "display_data"
    }
   ],
   "source": [
    "labels = ['Four Factors (SGD)', 'Adj Efficiency (SGD)', 'All Features (Ridge)']\n",
    "train_maes = [1.95, 2.92, 1.92]\n",
    "valid_maes = [2.02, 2.97, 1.96]\n",
    "\n",
    "x = np.arange(len(labels))  # the label locations\n",
    "width = 0.35  # the width of the bars\n",
    "\n",
    "fig, ax = plt.subplots()\n",
    "rects1 = ax.bar(x - width/2, train_maes, width, label='Train')\n",
    "rects2 = ax.bar(x + width/2, valid_maes, width, label='Validation')\n",
    "\n",
    "# Add some text for labels, title and custom x-axis tick labels, etc.\n",
    "ax.set_ylabel('MAE')\n",
    "ax.set_title('MAE per model')\n",
    "ax.set_xticks(x)\n",
    "ax.set_xticklabels(labels)\n",
    "ax.legend()\n",
    "\n",
    "\n",
    "def autolabel(rects):\n",
    "    \"\"\"Attach a text label above each bar in *rects*, displaying its height.\"\"\"\n",
    "    for rect in rects:\n",
    "        height = rect.get_height()\n",
    "        ax.annotate('{}'.format(height),\n",
    "                    xy=(rect.get_x() + rect.get_width() / 2, height),\n",
    "                    xytext=(0, 1),  # 3 points vertical offset\n",
    "                    textcoords=\"offset points\",\n",
    "                    ha='center', va='bottom')\n",
    "\n",
    "\n",
    "autolabel(rects1)\n",
    "autolabel(rects2)\n",
    "\n",
    "fig.tight_layout()\n",
    "\n",
    "plt.show()"
   ]
  },
  {
   "cell_type": "markdown",
   "id": "settled-windsor",
   "metadata": {},
   "source": [
    "Among the 3 different models we fitted, the best model was the Ridge model that was trained using all of the team stats columns with an MAE of 1.96 on the validation set. We will use this model on our test set and see how it does. But out of curiosity, let's have a look at the feature importance of this model before we test it."
   ]
  },
  {
   "cell_type": "code",
   "execution_count": null,
   "id": "english-fossil",
   "metadata": {},
   "outputs": [],
   "source": []
  },
  {
   "cell_type": "markdown",
   "id": "romance-yahoo",
   "metadata": {},
   "source": [
    "# Feature Importance of Best Model"
   ]
  },
  {
   "cell_type": "code",
   "execution_count": 83,
   "id": "acting-adventure",
   "metadata": {
    "ExecuteTime": {
     "end_time": "2021-03-12T18:37:04.664043Z",
     "start_time": "2021-03-12T18:37:01.760393Z"
    }
   },
   "outputs": [
    {
     "data": {
      "image/png": "[encoded data removed]",
      "text/plain": [
       "<Figure size 432x288 with 1 Axes>"
      ]
     },
     "metadata": {
      "needs_background": "light"
     },
     "output_type": "display_data"
    }
   ],
   "source": [
    "# Barplot visual of the permutation importances\n",
    "# Use permutation importance to get a sense for the feature importance of our winning model\n",
    "r = permutation_importance(pipe_all, \n",
    "                           X_val, y_val, # Using the validation set makes it possible to highlight which features \n",
    "                                         # contribute the most to the generalization power of the inspected model. \n",
    "                           n_repeats=100,\n",
    "                           random_state=42)\n",
    "\n",
    "sorted_idx = r.importances_mean.argsort()\n",
    "\n",
    "fig, ax = plt.subplots()\n",
    "ax.barh(X_val.columns[sorted_idx], r.importances[sorted_idx].mean(axis=1).T)\n",
    "ax.set_title(\"Permutation Importances (validation set)\")\n",
    "fig.tight_layout()\n",
    "plt.show()"
   ]
  },
  {
   "cell_type": "markdown",
   "id": "bibliographic-dallas",
   "metadata": {},
   "source": [
    "Considering that our model where we fit the columns related to the \"Four Factors of Basketball Success\" was the second best model of the three we fitted, it does not seem surprising to see those columns have some higher importance among all of the stats. And probably not surprising at all, the effective field goal percentage on offense and defense are the top two features according to the model. One interesting feature that does not seem too important in this model is BARTHAG, which is a measure of the chance a team has of beating an average Division 1 team."
   ]
  },
  {
   "cell_type": "code",
   "execution_count": null,
   "id": "matched-grace",
   "metadata": {},
   "outputs": [],
   "source": []
  },
  {
   "cell_type": "markdown",
   "id": "broke-volunteer",
   "metadata": {},
   "source": [
    "# Testing our Best Model"
   ]
  },
  {
   "cell_type": "code",
   "execution_count": 62,
   "id": "reduced-notification",
   "metadata": {
    "ExecuteTime": {
     "end_time": "2021-03-11T07:47:47.135970Z",
     "start_time": "2021-03-11T07:47:47.130403Z"
    }
   },
   "outputs": [],
   "source": [
    "# Pulling the same features columns from our test data that our best model was fitted on\n",
    "X_test = test[features]\n",
    "y_test = test['W']"
   ]
  },
  {
   "cell_type": "code",
   "execution_count": 77,
   "id": "outer-swaziland",
   "metadata": {
    "ExecuteTime": {
     "end_time": "2021-03-12T18:32:13.886970Z",
     "start_time": "2021-03-12T18:32:13.882687Z"
    }
   },
   "outputs": [
    {
     "data": {
      "text/plain": [
       "Ridge(alpha=0.2, max_iter=300)"
      ]
     },
     "execution_count": 77,
     "metadata": {},
     "output_type": "execute_result"
    }
   ],
   "source": [
    "# Best model\n",
    "pipe_all.get_params()['reg']"
   ]
  },
  {
   "cell_type": "code",
   "execution_count": 65,
   "id": "paperback-honolulu",
   "metadata": {
    "ExecuteTime": {
     "end_time": "2021-03-11T08:04:07.164056Z",
     "start_time": "2021-03-11T08:04:07.152500Z"
    }
   },
   "outputs": [
    {
     "data": {
      "text/plain": [
       "Pipeline(steps=[('scaler', StandardScaler()),\n",
       "                ('reg', Ridge(alpha=0.2, max_iter=300))])"
      ]
     },
     "execution_count": 65,
     "metadata": {},
     "output_type": "execute_result"
    }
   ],
   "source": [
    "# Fit model on all the available training data\n",
    "pipe_all.fit(X, y)"
   ]
  },
  {
   "cell_type": "code",
   "execution_count": 66,
   "id": "eight-recycling",
   "metadata": {
    "ExecuteTime": {
     "end_time": "2021-03-11T08:06:01.906074Z",
     "start_time": "2021-03-11T08:06:01.890296Z"
    }
   },
   "outputs": [
    {
     "name": "stdout",
     "output_type": "stream",
     "text": [
      "MAE: 1.934566\n"
     ]
    }
   ],
   "source": [
    "# Testing the model\n",
    "y_pred = pipe_all.predict(X_test)\n",
    "all_mae = mean_absolute_error(y_test, y_pred)\n",
    "print(f\"MAE: {all_mae:.6f}\")"
   ]
  },
  {
   "cell_type": "code",
   "execution_count": null,
   "id": "posted-bride",
   "metadata": {},
   "outputs": [],
   "source": []
  },
  {
   "cell_type": "code",
   "execution_count": 74,
   "id": "hundred-liquid",
   "metadata": {
    "ExecuteTime": {
     "end_time": "2021-03-12T09:02:31.791421Z",
     "start_time": "2021-03-12T09:02:27.895001Z"
    }
   },
   "outputs": [
    {
     "data": {
      "image/png": "[encoded data removed]",
      "text/plain": [
       "<Figure size 432x288 with 1 Axes>"
      ]
     },
     "metadata": {
      "needs_background": "light"
     },
     "output_type": "display_data"
    }
   ],
   "source": [
    "# Feature importance of the model on the test data\n",
    "r = permutation_importance(pipe_all, \n",
    "                           X_test, y_test,\n",
    "                           n_repeats=100,\n",
    "                           random_state=42)\n",
    "\n",
    "sorted_idx = r.importances_mean.argsort()\n",
    "\n",
    "fig, ax = plt.subplots()\n",
    "ax.barh(X_test.columns[sorted_idx], r.importances[sorted_idx].mean(axis=1).T)\n",
    "ax.set_title(\"Permutation Importances (test set)\")\n",
    "fig.tight_layout()\n",
    "plt.show()"
   ]
  },
  {
   "cell_type": "markdown",
   "id": "planned-department",
   "metadata": {},
   "source": [
    "From the permutation importance, the top two features remain the same with effective field goal percentage on offense and defense. There is some shuffling of the features compared to the validation set earlier. Notably here BARTHAG is the least important to this model, which brings to question whether this power rating is a true indicator of how \"successful\" a team will be during the season. Of course, here we are defining success as total number of wins."
   ]
  },
  {
   "cell_type": "code",
   "execution_count": null,
   "id": "liable-blast",
   "metadata": {},
   "outputs": [],
   "source": []
  },
  {
   "cell_type": "markdown",
   "id": "proved-advertiser",
   "metadata": {},
   "source": [
    "# Conclusion"
   ]
  },
  {
   "cell_type": "markdown",
   "id": "healthy-computer",
   "metadata": {
    "ExecuteTime": {
     "end_time": "2021-03-11T08:03:32.642484Z",
     "start_time": "2021-03-11T08:03:32.616566Z"
    }
   },
   "source": [
    "Our best model performed even slightly better than it did on the validation set from earlier with an MAE of 1.93. By using all of the available stats columns of each team, we can predict their respective wins by just within 2 games, which is pretty respectable considering the many factors that go into a college basketball season. This also highlights how we need to make use of all of the data available on teams to make accurate predictions of their potential success, in this case number of wins being the measure of success."
   ]
  },
  {
   "cell_type": "markdown",
   "id": "subject-hostel",
   "metadata": {},
   "source": [
    "Next things to consider: when it comes to this dataset, I might consider including the school name and the conference each team plays in to see if they may improve the predictive power of the model. Since certain schools and conferences tend to do well compared to others, this may improve win prediction.\n",
    "\n",
    "Beyond this dataset: another thing to consider is if there may be other stats not included in this dataset that also have strong predictive power to win prediction. Or even if there may be a different stat that can be created using the current features that can help reduce the amount of features we are feeding into the model."
   ]
  },
  {
   "cell_type": "code",
   "execution_count": null,
   "id": "determined-implementation",
   "metadata": {},
   "outputs": [],
   "source": []
  }
 ],
 "metadata": {
  "kernelspec": {
   "display_name": "Python 3",
   "language": "python",
   "name": "python3"
  },
  "language_info": {
   "codemirror_mode": {
    "name": "ipython",
    "version": 3
   },
   "file_extension": ".py",
   "mimetype": "text/x-python",
   "name": "python",
   "nbconvert_exporter": "python",
   "pygments_lexer": "ipython3",
   "version": "3.8.5"
  }
 },
 "nbformat": 4,
 "nbformat_minor": 5
}
